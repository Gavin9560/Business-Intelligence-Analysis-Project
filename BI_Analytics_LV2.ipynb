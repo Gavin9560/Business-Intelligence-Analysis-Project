{
 "cells": [
  {
   "cell_type": "markdown",
   "metadata": {},
   "source": [
    "# Business Analytics Tasks, Level 2."
   ]
  },
  {
   "cell_type": "markdown",
   "metadata": {},
   "source": [
    "## Task 3: Descriptive Statistics\n",
    "#### Objective: To Present basic statistics for numerical columns."
   ]
  },
  {
   "cell_type": "code",
   "execution_count": 1,
   "metadata": {},
   "outputs": [],
   "source": [
    "# Starting by Importing some useful libraries, we have:\n",
    "import pandas as pd\n",
    "import matplotlib.pyplot as plt\n",
    "import seaborn  as sns\n",
    "import numpy as np\n",
    "from collections import Counter"
   ]
  },
  {
   "cell_type": "markdown",
   "metadata": {},
   "source": [
    "Loading and reading the dataset csv file."
   ]
  },
  {
   "cell_type": "code",
   "execution_count": 2,
   "metadata": {},
   "outputs": [],
   "source": [
    "df = pd.read_csv('Data_set 2.csv')"
   ]
  },
  {
   "cell_type": "markdown",
   "metadata": {},
   "source": [
    "### Displaying the entire dataset to identify and have a glimpse of the data columns again."
   ]
  },
  {
   "cell_type": "code",
   "execution_count": 3,
   "metadata": {},
   "outputs": [
    {
     "name": "stdout",
     "output_type": "stream",
     "text": [
      "    gender  age Investment_Avenues  Mutual_Funds  Equity_Market  Debentures  Government_Bonds  Fixed_Deposits  PPF  Gold Stock_Marktet          Factor             Objective             Purpose           Duration Invest_Monitor   Expect                 Avenue What are your savings objectives?         Reason_Equity         Reason_Mutual     Reason_Bonds            Reason_FD                    Source\n",
      "0   Female   34                Yes             1              2           5                 3               7    6     4           Yes         Returns  Capital Appreciation     Wealth Creation          1-3 years        Monthly  20%-30%            Mutual Fund                   Retirement Plan  Capital Appreciation        Better Returns  Safe Investment        Fixed Returns  Newspapers and Magazines\n",
      "1   Female   23                Yes             4              3           2                 1               5    6     7            No  Locking Period  Capital Appreciation     Wealth Creation  More than 5 years         Weekly  20%-30%            Mutual Fund                       Health Care              Dividend        Better Returns  Safe Investment  High Interest Rates     Financial Consultants\n",
      "2     Male   30                Yes             3              6           4                 2               5    1     7           Yes         Returns  Capital Appreciation     Wealth Creation          3-5 years          Daily  20%-30%                 Equity                   Retirement Plan  Capital Appreciation          Tax Benefits  Assured Returns        Fixed Returns                Television\n",
      "3     Male   22                Yes             2              1           3                 7               6    4     5           Yes         Returns                Income     Wealth Creation   Less than 1 year          Daily  10%-20%                 Equity                   Retirement Plan              Dividend  Fund Diversification   Tax Incentives  High Interest Rates                  Internet\n",
      "4   Female   24                 No             2              1           3                 6               4    5     7            No         Returns                Income     Wealth Creation   Less than 1 year          Daily  20%-30%                 Equity                   Retirement Plan  Capital Appreciation        Better Returns  Safe Investment            Risk Free                  Internet\n",
      "5   Female   24                 No             7              5           4                 6               3    1     2            No            Risk  Capital Appreciation     Wealth Creation          1-3 years          Daily  30%-40%            Mutual Fund                   Retirement Plan             Liquidity  Fund Diversification  Safe Investment            Risk Free                  Internet\n",
      "6   Female   27                Yes             3              6           4                 2               5    1     7           Yes         Returns  Capital Appreciation     Wealth Creation          3-5 years        Monthly  20%-30%                 Equity                   Retirement Plan  Capital Appreciation        Better Returns  Assured Returns  High Interest Rates     Financial Consultants\n",
      "7     Male   21                Yes             2              3           7                 4               6    1     5           Yes            Risk  Capital Appreciation     Wealth Creation          3-5 years        Monthly  20%-30%            Mutual Fund                   Retirement Plan  Capital Appreciation        Better Returns  Assured Returns            Risk Free  Newspapers and Magazines\n",
      "8     Male   35                Yes             2              4           7                 5               3    1     6           Yes         Returns                Growth  Savings for Future          1-3 years         Weekly  20%-30%                 Equity                   Retirement Plan  Capital Appreciation  Fund Diversification  Safe Investment        Fixed Returns                Television\n",
      "9     Male   31                Yes             1              3           7                 4               5    2     6           Yes         Returns  Capital Appreciation     Wealth Creation          3-5 years        Monthly  30%-40%         Fixed Deposits                   Retirement Plan  Capital Appreciation  Fund Diversification  Assured Returns        Fixed Returns  Newspapers and Magazines\n",
      "10  Female   35                Yes             2              4           7                 5               3    1     6           Yes            Risk                Growth  Savings for Future          3-5 years        Monthly  20%-30%            Mutual Fund                   Retirement Plan  Capital Appreciation        Better Returns  Assured Returns            Risk Free     Financial Consultants\n",
      "11    Male   29                Yes             2              5           7                 6               3    1     4           Yes            Risk  Capital Appreciation     Wealth Creation          1-3 years        Monthly  20%-30%            Mutual Fund                   Retirement Plan  Capital Appreciation  Fund Diversification  Assured Returns        Fixed Returns     Financial Consultants\n",
      "12  Female   21                 No             1              2           3                 4               5    6     7            No         Returns  Capital Appreciation  Savings for Future          1-3 years         Weekly  20%-30%            Mutual Fund                         Education              Dividend        Better Returns  Safe Investment            Risk Free                  Internet\n",
      "13  Female   28                Yes             2              3           7                 4               5    1     6           Yes         Returns  Capital Appreciation     Wealth Creation          1-3 years        Monthly  20%-30%            Mutual Fund                   Retirement Plan  Capital Appreciation  Fund Diversification  Assured Returns            Risk Free  Newspapers and Magazines\n",
      "14  Female   25                Yes             2              3           7                 5               4    1     6           Yes         Returns  Capital Appreciation     Wealth Creation          1-3 years        Monthly  20%-30%         Fixed Deposits                       Health Care              Dividend        Better Returns  Assured Returns            Risk Free     Financial Consultants\n",
      "15    Male   27                Yes             2              3           7                 5               4    1     6           Yes         Returns  Capital Appreciation     Wealth Creation          1-3 years        Monthly  20%-30%            Mutual Fund                       Health Care  Capital Appreciation  Fund Diversification  Assured Returns            Risk Free  Newspapers and Magazines\n",
      "16  Female   28                Yes             3              2           7                 5               4    1     6           Yes            Risk                Growth     Wealth Creation          1-3 years        Monthly  20%-30%         Fixed Deposits                       Health Care  Capital Appreciation  Fund Diversification  Assured Returns            Risk Free                Television\n",
      "17    Male   27                Yes             3              2           7                 4               5    1     6           Yes         Returns  Capital Appreciation     Wealth Creation          1-3 years        Monthly  20%-30%            Mutual Fund                   Retirement Plan  Capital Appreciation        Better Returns  Assured Returns            Risk Free     Financial Consultants\n",
      "18    Male   29                Yes             3              2           7                 4               5    1     6           Yes            Risk  Capital Appreciation     Wealth Creation          1-3 years        Monthly  20%-30%            Mutual Fund                   Retirement Plan  Capital Appreciation        Better Returns  Assured Returns            Risk Free  Newspapers and Magazines\n",
      "19    Male   26                Yes             3              4           6                 5               1    2     7           Yes            Risk  Capital Appreciation     Wealth Creation          3-5 years        Monthly  20%-30%         Fixed Deposits                       Health Care  Capital Appreciation  Fund Diversification  Assured Returns            Risk Free  Newspapers and Magazines\n",
      "20    Male   29                Yes             2              4           7                 5               3    1     6           Yes         Returns                Growth     Wealth Creation          3-5 years         Weekly  20%-30%            Mutual Fund                   Retirement Plan  Capital Appreciation        Better Returns  Assured Returns        Fixed Returns     Financial Consultants\n",
      "21  Female   24                Yes             2              4           5                 6               3    1     7           Yes            Risk  Capital Appreciation     Wealth Creation          3-5 years        Monthly  20%-30%                 Equity                       Health Care  Capital Appreciation        Better Returns  Assured Returns            Risk Free  Newspapers and Magazines\n",
      "22    Male   27                Yes             3              4           6                 5               2    1     7           Yes         Returns  Capital Appreciation     Wealth Creation          3-5 years        Monthly  20%-30%            Mutual Fund                   Retirement Plan  Capital Appreciation        Better Returns  Assured Returns            Risk Free     Financial Consultants\n",
      "23    Male   25                Yes             2              4           6                 5               3    1     7           Yes            Risk                Growth  Savings for Future          3-5 years         Weekly  20%-30%  Public Provident Fund                       Health Care             Liquidity        Better Returns  Assured Returns            Risk Free     Financial Consultants\n",
      "24  Female   26                Yes             2              3           7                 5               4    1     6           Yes         Returns  Capital Appreciation     Wealth Creation          3-5 years        Monthly  30%-40%  Public Provident Fund                   Retirement Plan  Capital Appreciation        Better Returns  Assured Returns            Risk Free  Newspapers and Magazines\n",
      "25  Female   32                Yes             3              4           7                 5               1    2     6           Yes            Risk                Growth     Wealth Creation          3-5 years        Monthly  20%-30%            Mutual Fund                   Retirement Plan  Capital Appreciation        Better Returns  Assured Returns        Fixed Returns     Financial Consultants\n",
      "26    Male   26                Yes             3              4           6                 5               1    2     7           Yes         Returns  Capital Appreciation     Wealth Creation          3-5 years        Monthly  20%-30%            Mutual Fund                   Retirement Plan              Dividend  Fund Diversification  Assured Returns        Fixed Returns     Financial Consultants\n",
      "27    Male   31                Yes             2              3           7                 6               4    1     5           Yes            Risk                Growth  Savings for Future          1-3 years        Monthly  20%-30%         Fixed Deposits                       Health Care  Capital Appreciation  Fund Diversification  Safe Investment        Fixed Returns                Television\n",
      "28    Male   29                Yes             2              3           6                 5               1    4     7           Yes         Returns  Capital Appreciation     Wealth Creation          1-3 years        Monthly  20%-30%                 Equity                   Retirement Plan  Capital Appreciation        Better Returns  Assured Returns            Risk Free                Television\n",
      "29  Female   34                Yes             5              4           3                 2               7    1     6           Yes         Returns                Income             Returns          3-5 years        Monthly  10%-20%            Mutual Fund                   Retirement Plan  Capital Appreciation          Tax Benefits  Safe Investment        Fixed Returns  Newspapers and Magazines\n",
      "30    Male   27                Yes             4              5           1                 2               7    3     6            No         Returns                Growth     Wealth Creation          1-3 years        Monthly  10%-20%            Mutual Fund                         Education  Capital Appreciation          Tax Benefits  Safe Investment        Fixed Returns                Television\n",
      "31  Female   31                Yes             2              4           7                 6               3    1     5           Yes         Returns  Capital Appreciation     Wealth Creation          3-5 years        Monthly  20%-30%         Fixed Deposits                   Retirement Plan  Capital Appreciation        Better Returns  Assured Returns        Fixed Returns     Financial Consultants\n",
      "32    Male   27                Yes             2              4           7                 5               1    3     6           Yes         Returns  Capital Appreciation     Wealth Creation          3-5 years        Monthly  30%-40%                 Equity                       Health Care  Capital Appreciation  Fund Diversification  Assured Returns        Fixed Returns  Newspapers and Magazines\n",
      "33    Male   26                Yes             2              3           6                 4               1    5     7           Yes         Returns  Capital Appreciation             Returns          1-3 years        Monthly  20%-30%         Fixed Deposits                         Education              Dividend        Better Returns  Safe Investment            Risk Free  Newspapers and Magazines\n",
      "34    Male   27                Yes             2              3           6                 5               4    1     7           Yes         Returns  Capital Appreciation     Wealth Creation          1-3 years         Weekly  20%-30%            Mutual Fund                       Health Care  Capital Appreciation        Better Returns  Safe Investment        Fixed Returns     Financial Consultants\n",
      "35    Male   30                Yes             1              4           6                 5               3    2     7           Yes            Risk                Growth     Wealth Creation          3-5 years        Monthly  20%-30%         Fixed Deposits                       Health Care  Capital Appreciation        Better Returns  Assured Returns        Fixed Returns     Financial Consultants\n",
      "36    Male   30                Yes             2              4           7                 5               1    3     6           Yes         Returns  Capital Appreciation     Wealth Creation          1-3 years        Monthly  20%-30%                 Equity                   Retirement Plan  Capital Appreciation        Better Returns  Assured Returns            Risk Free  Newspapers and Magazines\n",
      "37    Male   25                Yes             5              4           7                 6               1    2     3           Yes            Risk                Growth  Savings for Future          3-5 years        Monthly  30%-40%  Public Provident Fund                       Health Care  Capital Appreciation        Better Returns  Safe Investment        Fixed Returns     Financial Consultants\n",
      "38    Male   31                Yes             2              4           7                 5               3    1     6           Yes            Risk                Growth     Wealth Creation          1-3 years         Weekly  20%-30%                 Equity                       Health Care              Dividend  Fund Diversification  Assured Returns        Fixed Returns  Newspapers and Magazines\n",
      "39    Male   29                Yes             4              3           5                 7               2    1     6           Yes         Returns  Capital Appreciation     Wealth Creation          3-5 years        Monthly  20%-30%         Fixed Deposits                   Retirement Plan              Dividend        Better Returns  Safe Investment        Fixed Returns     Financial Consultants\n"
     ]
    }
   ],
   "source": [
    "print(df.to_string())"
   ]
  },
  {
   "cell_type": "markdown",
   "metadata": {},
   "source": [
    "## Here, I am displaying the columns that have numerical values, i.e integers (numbers)"
   ]
  },
  {
   "cell_type": "code",
   "execution_count": 4,
   "metadata": {},
   "outputs": [
    {
     "name": "stdout",
     "output_type": "stream",
     "text": [
      "    age  Mutual_Funds  Equity_Market  Debentures  Government_Bonds  Fixed_Deposits  PPF  Gold\n",
      "0    34             1              2           5                 3               7    6     4\n",
      "1    23             4              3           2                 1               5    6     7\n",
      "2    30             3              6           4                 2               5    1     7\n",
      "3    22             2              1           3                 7               6    4     5\n",
      "4    24             2              1           3                 6               4    5     7\n",
      "5    24             7              5           4                 6               3    1     2\n",
      "6    27             3              6           4                 2               5    1     7\n",
      "7    21             2              3           7                 4               6    1     5\n",
      "8    35             2              4           7                 5               3    1     6\n",
      "9    31             1              3           7                 4               5    2     6\n",
      "10   35             2              4           7                 5               3    1     6\n",
      "11   29             2              5           7                 6               3    1     4\n",
      "12   21             1              2           3                 4               5    6     7\n",
      "13   28             2              3           7                 4               5    1     6\n",
      "14   25             2              3           7                 5               4    1     6\n",
      "15   27             2              3           7                 5               4    1     6\n",
      "16   28             3              2           7                 5               4    1     6\n",
      "17   27             3              2           7                 4               5    1     6\n",
      "18   29             3              2           7                 4               5    1     6\n",
      "19   26             3              4           6                 5               1    2     7\n",
      "20   29             2              4           7                 5               3    1     6\n",
      "21   24             2              4           5                 6               3    1     7\n",
      "22   27             3              4           6                 5               2    1     7\n",
      "23   25             2              4           6                 5               3    1     7\n",
      "24   26             2              3           7                 5               4    1     6\n",
      "25   32             3              4           7                 5               1    2     6\n",
      "26   26             3              4           6                 5               1    2     7\n",
      "27   31             2              3           7                 6               4    1     5\n",
      "28   29             2              3           6                 5               1    4     7\n",
      "29   34             5              4           3                 2               7    1     6\n",
      "30   27             4              5           1                 2               7    3     6\n",
      "31   31             2              4           7                 6               3    1     5\n",
      "32   27             2              4           7                 5               1    3     6\n",
      "33   26             2              3           6                 4               1    5     7\n",
      "34   27             2              3           6                 5               4    1     7\n",
      "35   30             1              4           6                 5               3    2     7\n",
      "36   30             2              4           7                 5               1    3     6\n",
      "37   25             5              4           7                 6               1    2     3\n",
      "38   31             2              4           7                 5               3    1     6\n",
      "39   29             4              3           5                 7               2    1     6\n"
     ]
    }
   ],
   "source": [
    "# Displaying only numerical columns\n",
    "print(df.select_dtypes(include='int').to_string())"
   ]
  },
  {
   "cell_type": "markdown",
   "metadata": {},
   "source": [
    "## Here, I am showing the statistics for the columns with numerical data, statistics like: Mean, median, maximum and minimum values."
   ]
  },
  {
   "cell_type": "code",
   "execution_count": 5,
   "metadata": {},
   "outputs": [
    {
     "name": "stdout",
     "output_type": "stream",
     "text": [
      "Mean values:\n",
      " age                 27.800\n",
      "Mutual_Funds         2.550\n",
      "Equity_Market        3.475\n",
      "Debentures           5.750\n",
      "Government_Bonds     4.650\n",
      "Fixed_Deposits       3.575\n",
      "PPF                  2.025\n",
      "Gold                 5.975\n",
      "dtype: float64\n",
      "\n",
      "Median values:\n",
      " age                 27.0\n",
      "Mutual_Funds         2.0\n",
      "Equity_Market        4.0\n",
      "Debentures           6.5\n",
      "Government_Bonds     5.0\n",
      "Fixed_Deposits       3.5\n",
      "PPF                  1.0\n",
      "Gold                 6.0\n",
      "dtype: float64\n",
      "\n",
      "Standard Deviation values:\n",
      " age                 3.560467\n",
      "Mutual_Funds        1.197219\n",
      "Equity_Market       1.131994\n",
      "Debentures          1.675617\n",
      "Government_Bonds    1.369072\n",
      "Fixed_Deposits      1.795828\n",
      "PPF                 1.609069\n",
      "Gold                1.143263\n",
      "dtype: float64\n",
      "\n",
      "Maximum Value:\n",
      " age                 35\n",
      "Mutual_Funds         7\n",
      "Equity_Market        6\n",
      "Debentures           7\n",
      "Government_Bonds     7\n",
      "Fixed_Deposits       7\n",
      "PPF                  6\n",
      "Gold                 7\n",
      "dtype: int64\n",
      "\n",
      "Minimum Value:\n",
      " age                 21\n",
      "Mutual_Funds         1\n",
      "Equity_Market        1\n",
      "Debentures           1\n",
      "Government_Bonds     1\n",
      "Fixed_Deposits       1\n",
      "PPF                  1\n",
      "Gold                 2\n",
      "dtype: int64\n",
      "\n",
      "Mode Value:\n",
      "    age  Mutual_Funds  Equity_Market  Debentures  Government_Bonds  \\\n",
      "0   27             2              4           7                 5   \n",
      "\n",
      "   Fixed_Deposits  PPF  Gold  \n",
      "0               3    1     6  \n"
     ]
    }
   ],
   "source": [
    "# Selecting  only the columns with numerical values, we have:\n",
    "numerical_columns = df.select_dtypes(include='number')\n",
    "\n",
    "# Calculating the mean, median, standard deviation, range, mode, maximum value, and minimum, values for each numerical column, we have:\n",
    "mean_values = numerical_columns.mean()\n",
    "median_values = numerical_columns.median()\n",
    "std_values = numerical_columns.std()\n",
    "max_value = numerical_columns.max()\n",
    "min_value = numerical_columns.min()\n",
    "mode_value = numerical_columns.mode()\n",
    "\n",
    "\n",
    "# Displaying the results, we have:\n",
    "print(\"Mean values:\\n\", mean_values)\n",
    "print(\"\\nMedian values:\\n\", median_values)\n",
    "print(\"\\nStandard Deviation values:\\n\", std_values)\n",
    "print(\"\\nMaximum Value:\\n\", max_value)\n",
    "print(\"\\nMinimum Value:\\n\", min_value)\n",
    "print(\"\\nMode Value:\\n\", mode_value)"
   ]
  },
  {
   "cell_type": "markdown",
   "metadata": {},
   "source": [
    "## Task 4: Most Preferred Investment Avenue\n",
    "#### Objective: To Identify the most preferred investment avenue."
   ]
  },
  {
   "cell_type": "markdown",
   "metadata": {},
   "source": [
    "### Here, I am displaying just the Avenue column, and saving it to a data frame, for easy acess."
   ]
  },
  {
   "cell_type": "code",
   "execution_count": 6,
   "metadata": {},
   "outputs": [
    {
     "name": "stdout",
     "output_type": "stream",
     "text": [
      "                   Avenue\n",
      "0             Mutual Fund\n",
      "1             Mutual Fund\n",
      "2                  Equity\n",
      "3                  Equity\n",
      "4                  Equity\n",
      "5             Mutual Fund\n",
      "6                  Equity\n",
      "7             Mutual Fund\n",
      "8                  Equity\n",
      "9          Fixed Deposits\n",
      "10            Mutual Fund\n",
      "11            Mutual Fund\n",
      "12            Mutual Fund\n",
      "13            Mutual Fund\n",
      "14         Fixed Deposits\n",
      "15            Mutual Fund\n",
      "16         Fixed Deposits\n",
      "17            Mutual Fund\n",
      "18            Mutual Fund\n",
      "19         Fixed Deposits\n",
      "20            Mutual Fund\n",
      "21                 Equity\n",
      "22            Mutual Fund\n",
      "23  Public Provident Fund\n",
      "24  Public Provident Fund\n",
      "25            Mutual Fund\n",
      "26            Mutual Fund\n",
      "27         Fixed Deposits\n",
      "28                 Equity\n",
      "29            Mutual Fund\n",
      "30            Mutual Fund\n",
      "31         Fixed Deposits\n",
      "32                 Equity\n",
      "33         Fixed Deposits\n",
      "34            Mutual Fund\n",
      "35         Fixed Deposits\n",
      "36                 Equity\n",
      "37  Public Provident Fund\n",
      "38                 Equity\n",
      "39         Fixed Deposits\n"
     ]
    }
   ],
   "source": [
    "investment_avenue_df = df[['Avenue']]\n",
    "print (investment_avenue_df )"
   ]
  },
  {
   "cell_type": "markdown",
   "metadata": {},
   "source": [
    "### To find the most preferred investment avenue, we need to find the most frequent string in the 'Avenue' column, i.e:"
   ]
  },
  {
   "cell_type": "code",
   "execution_count": 7,
   "metadata": {},
   "outputs": [
    {
     "name": "stdout",
     "output_type": "stream",
     "text": [
      "The most preferred investment avenue is 'Mutual Fund' as it appears 18 times in the Avenue Coloumn.\n"
     ]
    }
   ],
   "source": [
    "# Finding the most frequent string in the 'Avenue' column, we have:\n",
    "most_preferred_investment_avenue = investment_avenue_df['Avenue'].value_counts().idxmax()  \n",
    "\n",
    "# Finding the frequency of the most frequent string, we have:\n",
    "frequency = investment_avenue_df['Avenue'].value_counts().max()               \n",
    "\n",
    "# Printing the result, we have:\n",
    "print(f\"The most preferred investment avenue is '{most_preferred_investment_avenue}' as it appears {frequency} times in the Avenue Coloumn.\")\n"
   ]
  },
  {
   "cell_type": "markdown",
   "metadata": {},
   "source": [
    "### Going further to present it on a chart, we have:"
   ]
  },
  {
   "cell_type": "code",
   "execution_count": 8,
   "metadata": {},
   "outputs": [
    {
     "data": {
      "image/png": "[encoded data removed]",
      "text/plain": [
       "<Figure size 1000x600 with 1 Axes>"
      ]
     },
     "metadata": {},
     "output_type": "display_data"
    }
   ],
   "source": [
    "# Getting the frequency of each string in the 'Avenue' column\n",
    "investment_avenue_choices = investment_avenue_df['Avenue'].value_counts()\n",
    "\n",
    "# Plotting the bar chart, we have:\n",
    "plt.figure(figsize=(10, 6))  # Set figure size\n",
    "investment_avenue_choices.plot(kind='bar', color='blue')\n",
    "\n",
    "# Adding the chart labels, font sizes, and title, we have:\n",
    "plt.title(\"Frequency of Investment Avenues\", fontsize=16)\n",
    "plt.xlabel(\"Avenue Choice\", fontsize=14)\n",
    "plt.ylabel(\"Frequency\", fontsize=14)\n",
    "\n",
    "# Showing the plot, we have:\n",
    "plt.xticks(rotation=0)  # Rotating x-axis labels for better readability\n",
    "plt.grid(axis='y', linestyle='--', alpha=0.4)  # Add a light grid for clarity\n",
    "plt.show()\n"
   ]
  }
 ],
 "metadata": {
  "kernelspec": {
   "display_name": "Python 3",
   "language": "python",
   "name": "python3"
  },
  "language_info": {
   "codemirror_mode": {
    "name": "ipython",
    "version": 3
   },
   "file_extension": ".py",
   "mimetype": "text/x-python",
   "name": "python",
   "nbconvert_exporter": "python",
   "pygments_lexer": "ipython3",
   "version": "3.12.7"
  }
 },
 "nbformat": 4,
 "nbformat_minor": 2
}
