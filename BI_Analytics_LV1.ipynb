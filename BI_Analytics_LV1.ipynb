{
 "cells": [
  {
   "cell_type": "markdown",
   "metadata": {},
   "source": [
    "# Business Analytics Tasks, Level 1.\n",
    "## Submitted by Oguinye Emeka Gavin"
   ]
  },
  {
   "cell_type": "markdown",
   "metadata": {},
   "source": [
    "### AIM : To explore Business Data, Draw insights, answer Business questions, and give recommendations that would improve the business.\n",
    "\n",
    "### Description : The Dataset provided is a .csv financial and investment data, and would be analysed on various parameters using python language."
   ]
  },
  {
   "cell_type": "code",
   "execution_count": 1,
   "metadata": {},
   "outputs": [],
   "source": [
    "# Starting by Importing some useful libraries, we have:\n",
    "import pandas as pd\n",
    "import matplotlib.pyplot as plt\n",
    "import seaborn  as sns\n",
    "import numpy as np"
   ]
  },
  {
   "cell_type": "markdown",
   "metadata": {},
   "source": [
    "## Task 1: Data Overview\n",
    "## Objective: Understanding the dataset structure."
   ]
  },
  {
   "cell_type": "markdown",
   "metadata": {},
   "source": [
    "### Loading and Reading the Dataset, we have that as:"
   ]
  },
  {
   "cell_type": "code",
   "execution_count": 2,
   "metadata": {},
   "outputs": [],
   "source": [
    "df = pd.read_csv(\"Data_set 2.csv\")"
   ]
  },
  {
   "cell_type": "markdown",
   "metadata": {},
   "source": [
    "### Here, I am displaying the entire Dataset"
   ]
  },
  {
   "cell_type": "code",
   "execution_count": 10,
   "metadata": {},
   "outputs": [
    {
     "name": "stdout",
     "output_type": "stream",
     "text": [
      "    gender  age Investment_Avenues  Mutual_Funds  Equity_Market  Debentures  Government_Bonds  Fixed_Deposits  PPF  Gold Stock_Marktet          Factor             Objective             Purpose           Duration Invest_Monitor   Expect                 Avenue What are your savings objectives?         Reason_Equity         Reason_Mutual     Reason_Bonds            Reason_FD                    Source\n",
      "0   Female   34                Yes             1              2           5                 3               7    6     4           Yes         Returns  Capital Appreciation     Wealth Creation          1-3 years        Monthly  20%-30%            Mutual Fund                   Retirement Plan  Capital Appreciation        Better Returns  Safe Investment        Fixed Returns  Newspapers and Magazines\n",
      "1   Female   23                Yes             4              3           2                 1               5    6     7            No  Locking Period  Capital Appreciation     Wealth Creation  More than 5 years         Weekly  20%-30%            Mutual Fund                       Health Care              Dividend        Better Returns  Safe Investment  High Interest Rates     Financial Consultants\n",
      "2     Male   30                Yes             3              6           4                 2               5    1     7           Yes         Returns  Capital Appreciation     Wealth Creation          3-5 years          Daily  20%-30%                 Equity                   Retirement Plan  Capital Appreciation          Tax Benefits  Assured Returns        Fixed Returns                Television\n",
      "3     Male   22                Yes             2              1           3                 7               6    4     5           Yes         Returns                Income     Wealth Creation   Less than 1 year          Daily  10%-20%                 Equity                   Retirement Plan              Dividend  Fund Diversification   Tax Incentives  High Interest Rates                  Internet\n",
      "4   Female   24                 No             2              1           3                 6               4    5     7            No         Returns                Income     Wealth Creation   Less than 1 year          Daily  20%-30%                 Equity                   Retirement Plan  Capital Appreciation        Better Returns  Safe Investment            Risk Free                  Internet\n",
      "5   Female   24                 No             7              5           4                 6               3    1     2            No            Risk  Capital Appreciation     Wealth Creation          1-3 years          Daily  30%-40%            Mutual Fund                   Retirement Plan             Liquidity  Fund Diversification  Safe Investment            Risk Free                  Internet\n",
      "6   Female   27                Yes             3              6           4                 2               5    1     7           Yes         Returns  Capital Appreciation     Wealth Creation          3-5 years        Monthly  20%-30%                 Equity                   Retirement Plan  Capital Appreciation        Better Returns  Assured Returns  High Interest Rates     Financial Consultants\n",
      "7     Male   21                Yes             2              3           7                 4               6    1     5           Yes            Risk  Capital Appreciation     Wealth Creation          3-5 years        Monthly  20%-30%            Mutual Fund                   Retirement Plan  Capital Appreciation        Better Returns  Assured Returns            Risk Free  Newspapers and Magazines\n",
      "8     Male   35                Yes             2              4           7                 5               3    1     6           Yes         Returns                Growth  Savings for Future          1-3 years         Weekly  20%-30%                 Equity                   Retirement Plan  Capital Appreciation  Fund Diversification  Safe Investment        Fixed Returns                Television\n",
      "9     Male   31                Yes             1              3           7                 4               5    2     6           Yes         Returns  Capital Appreciation     Wealth Creation          3-5 years        Monthly  30%-40%         Fixed Deposits                   Retirement Plan  Capital Appreciation  Fund Diversification  Assured Returns        Fixed Returns  Newspapers and Magazines\n",
      "10  Female   35                Yes             2              4           7                 5               3    1     6           Yes            Risk                Growth  Savings for Future          3-5 years        Monthly  20%-30%            Mutual Fund                   Retirement Plan  Capital Appreciation        Better Returns  Assured Returns            Risk Free     Financial Consultants\n",
      "11    Male   29                Yes             2              5           7                 6               3    1     4           Yes            Risk  Capital Appreciation     Wealth Creation          1-3 years        Monthly  20%-30%            Mutual Fund                   Retirement Plan  Capital Appreciation  Fund Diversification  Assured Returns        Fixed Returns     Financial Consultants\n",
      "12  Female   21                 No             1              2           3                 4               5    6     7            No         Returns  Capital Appreciation  Savings for Future          1-3 years         Weekly  20%-30%            Mutual Fund                         Education              Dividend        Better Returns  Safe Investment            Risk Free                  Internet\n",
      "13  Female   28                Yes             2              3           7                 4               5    1     6           Yes         Returns  Capital Appreciation     Wealth Creation          1-3 years        Monthly  20%-30%            Mutual Fund                   Retirement Plan  Capital Appreciation  Fund Diversification  Assured Returns            Risk Free  Newspapers and Magazines\n",
      "14  Female   25                Yes             2              3           7                 5               4    1     6           Yes         Returns  Capital Appreciation     Wealth Creation          1-3 years        Monthly  20%-30%         Fixed Deposits                       Health Care              Dividend        Better Returns  Assured Returns            Risk Free     Financial Consultants\n",
      "15    Male   27                Yes             2              3           7                 5               4    1     6           Yes         Returns  Capital Appreciation     Wealth Creation          1-3 years        Monthly  20%-30%            Mutual Fund                       Health Care  Capital Appreciation  Fund Diversification  Assured Returns            Risk Free  Newspapers and Magazines\n",
      "16  Female   28                Yes             3              2           7                 5               4    1     6           Yes            Risk                Growth     Wealth Creation          1-3 years        Monthly  20%-30%         Fixed Deposits                       Health Care  Capital Appreciation  Fund Diversification  Assured Returns            Risk Free                Television\n",
      "17    Male   27                Yes             3              2           7                 4               5    1     6           Yes         Returns  Capital Appreciation     Wealth Creation          1-3 years        Monthly  20%-30%            Mutual Fund                   Retirement Plan  Capital Appreciation        Better Returns  Assured Returns            Risk Free     Financial Consultants\n",
      "18    Male   29                Yes             3              2           7                 4               5    1     6           Yes            Risk  Capital Appreciation     Wealth Creation          1-3 years        Monthly  20%-30%            Mutual Fund                   Retirement Plan  Capital Appreciation        Better Returns  Assured Returns            Risk Free  Newspapers and Magazines\n",
      "19    Male   26                Yes             3              4           6                 5               1    2     7           Yes            Risk  Capital Appreciation     Wealth Creation          3-5 years        Monthly  20%-30%         Fixed Deposits                       Health Care  Capital Appreciation  Fund Diversification  Assured Returns            Risk Free  Newspapers and Magazines\n",
      "20    Male   29                Yes             2              4           7                 5               3    1     6           Yes         Returns                Growth     Wealth Creation          3-5 years         Weekly  20%-30%            Mutual Fund                   Retirement Plan  Capital Appreciation        Better Returns  Assured Returns        Fixed Returns     Financial Consultants\n",
      "21  Female   24                Yes             2              4           5                 6               3    1     7           Yes            Risk  Capital Appreciation     Wealth Creation          3-5 years        Monthly  20%-30%                 Equity                       Health Care  Capital Appreciation        Better Returns  Assured Returns            Risk Free  Newspapers and Magazines\n",
      "22    Male   27                Yes             3              4           6                 5               2    1     7           Yes         Returns  Capital Appreciation     Wealth Creation          3-5 years        Monthly  20%-30%            Mutual Fund                   Retirement Plan  Capital Appreciation        Better Returns  Assured Returns            Risk Free     Financial Consultants\n",
      "23    Male   25                Yes             2              4           6                 5               3    1     7           Yes            Risk                Growth  Savings for Future          3-5 years         Weekly  20%-30%  Public Provident Fund                       Health Care             Liquidity        Better Returns  Assured Returns            Risk Free     Financial Consultants\n",
      "24  Female   26                Yes             2              3           7                 5               4    1     6           Yes         Returns  Capital Appreciation     Wealth Creation          3-5 years        Monthly  30%-40%  Public Provident Fund                   Retirement Plan  Capital Appreciation        Better Returns  Assured Returns            Risk Free  Newspapers and Magazines\n",
      "25  Female   32                Yes             3              4           7                 5               1    2     6           Yes            Risk                Growth     Wealth Creation          3-5 years        Monthly  20%-30%            Mutual Fund                   Retirement Plan  Capital Appreciation        Better Returns  Assured Returns        Fixed Returns     Financial Consultants\n",
      "26    Male   26                Yes             3              4           6                 5               1    2     7           Yes         Returns  Capital Appreciation     Wealth Creation          3-5 years        Monthly  20%-30%            Mutual Fund                   Retirement Plan              Dividend  Fund Diversification  Assured Returns        Fixed Returns     Financial Consultants\n",
      "27    Male   31                Yes             2              3           7                 6               4    1     5           Yes            Risk                Growth  Savings for Future          1-3 years        Monthly  20%-30%         Fixed Deposits                       Health Care  Capital Appreciation  Fund Diversification  Safe Investment        Fixed Returns                Television\n",
      "28    Male   29                Yes             2              3           6                 5               1    4     7           Yes         Returns  Capital Appreciation     Wealth Creation          1-3 years        Monthly  20%-30%                 Equity                   Retirement Plan  Capital Appreciation        Better Returns  Assured Returns            Risk Free                Television\n",
      "29  Female   34                Yes             5              4           3                 2               7    1     6           Yes         Returns                Income             Returns          3-5 years        Monthly  10%-20%            Mutual Fund                   Retirement Plan  Capital Appreciation          Tax Benefits  Safe Investment        Fixed Returns  Newspapers and Magazines\n",
      "30    Male   27                Yes             4              5           1                 2               7    3     6            No         Returns                Growth     Wealth Creation          1-3 years        Monthly  10%-20%            Mutual Fund                         Education  Capital Appreciation          Tax Benefits  Safe Investment        Fixed Returns                Television\n",
      "31  Female   31                Yes             2              4           7                 6               3    1     5           Yes         Returns  Capital Appreciation     Wealth Creation          3-5 years        Monthly  20%-30%         Fixed Deposits                   Retirement Plan  Capital Appreciation        Better Returns  Assured Returns        Fixed Returns     Financial Consultants\n",
      "32    Male   27                Yes             2              4           7                 5               1    3     6           Yes         Returns  Capital Appreciation     Wealth Creation          3-5 years        Monthly  30%-40%                 Equity                       Health Care  Capital Appreciation  Fund Diversification  Assured Returns        Fixed Returns  Newspapers and Magazines\n",
      "33    Male   26                Yes             2              3           6                 4               1    5     7           Yes         Returns  Capital Appreciation             Returns          1-3 years        Monthly  20%-30%         Fixed Deposits                         Education              Dividend        Better Returns  Safe Investment            Risk Free  Newspapers and Magazines\n",
      "34    Male   27                Yes             2              3           6                 5               4    1     7           Yes         Returns  Capital Appreciation     Wealth Creation          1-3 years         Weekly  20%-30%            Mutual Fund                       Health Care  Capital Appreciation        Better Returns  Safe Investment        Fixed Returns     Financial Consultants\n",
      "35    Male   30                Yes             1              4           6                 5               3    2     7           Yes            Risk                Growth     Wealth Creation          3-5 years        Monthly  20%-30%         Fixed Deposits                       Health Care  Capital Appreciation        Better Returns  Assured Returns        Fixed Returns     Financial Consultants\n",
      "36    Male   30                Yes             2              4           7                 5               1    3     6           Yes         Returns  Capital Appreciation     Wealth Creation          1-3 years        Monthly  20%-30%                 Equity                   Retirement Plan  Capital Appreciation        Better Returns  Assured Returns            Risk Free  Newspapers and Magazines\n",
      "37    Male   25                Yes             5              4           7                 6               1    2     3           Yes            Risk                Growth  Savings for Future          3-5 years        Monthly  30%-40%  Public Provident Fund                       Health Care  Capital Appreciation        Better Returns  Safe Investment        Fixed Returns     Financial Consultants\n",
      "38    Male   31                Yes             2              4           7                 5               3    1     6           Yes            Risk                Growth     Wealth Creation          1-3 years         Weekly  20%-30%                 Equity                       Health Care              Dividend  Fund Diversification  Assured Returns        Fixed Returns  Newspapers and Magazines\n",
      "39    Male   29                Yes             4              3           5                 7               2    1     6           Yes         Returns  Capital Appreciation     Wealth Creation          3-5 years        Monthly  20%-30%         Fixed Deposits                   Retirement Plan              Dividend        Better Returns  Safe Investment        Fixed Returns     Financial Consultants\n"
     ]
    }
   ],
   "source": [
    "print (df.to_string())"
   ]
  },
  {
   "cell_type": "markdown",
   "metadata": {},
   "source": [
    "### Here, I am displaying some informations about the Dataset, such as the Rows and columns number, then displaying the columns."
   ]
  },
  {
   "cell_type": "code",
   "execution_count": 3,
   "metadata": {},
   "outputs": [
    {
     "name": "stdout",
     "output_type": "stream",
     "text": [
      "\n",
      "Sneak Peek into Dataset Information:\n",
      "Total number of Rows in the Dataset: 40\n",
      "Total number of columns in the Dataset: 24\n",
      "\n",
      "Columns in the Dataset:\n",
      "- gender\n",
      "- age\n",
      "- Investment_Avenues\n",
      "- Mutual_Funds\n",
      "- Equity_Market\n",
      "- Debentures\n",
      "- Government_Bonds\n",
      "- Fixed_Deposits\n",
      "- PPF\n",
      "- Gold\n",
      "- Stock_Marktet\n",
      "- Factor\n",
      "- Objective\n",
      "- Purpose\n",
      "- Duration\n",
      "- Invest_Monitor\n",
      "- Expect\n",
      "- Avenue\n",
      "- What are your savings objectives?\n",
      "- Reason_Equity\n",
      "- Reason_Mutual\n",
      "- Reason_Bonds\n",
      "- Reason_FD\n",
      "- Source\n"
     ]
    }
   ],
   "source": [
    "print(\"\\nSneak Peek into Dataset Information:\")\n",
    "print (f\"Total number of Rows in the Dataset: {len(df)}\")\n",
    "print(f\"Total number of columns in the Dataset: {len(df.columns)}\")\n",
    "print(\"\\nColumns in the Dataset:\")\n",
    "for col in df.columns:\n",
    "    print(f\"- {col}\")\n"
   ]
  },
  {
   "cell_type": "markdown",
   "metadata": {},
   "source": [
    "### Here, I am displaying some more informations about the Dataset, such as presence of Empty cells across the Rows and columns, Also Displaying the Datatypes"
   ]
  },
  {
   "cell_type": "code",
   "execution_count": 4,
   "metadata": {},
   "outputs": [
    {
     "name": "stdout",
     "output_type": "stream",
     "text": [
      "<class 'pandas.core.frame.DataFrame'>\n",
      "RangeIndex: 40 entries, 0 to 39\n",
      "Data columns (total 24 columns):\n",
      " #   Column                             Non-Null Count  Dtype \n",
      "---  ------                             --------------  ----- \n",
      " 0   gender                             40 non-null     object\n",
      " 1   age                                40 non-null     int64 \n",
      " 2   Investment_Avenues                 40 non-null     object\n",
      " 3   Mutual_Funds                       40 non-null     int64 \n",
      " 4   Equity_Market                      40 non-null     int64 \n",
      " 5   Debentures                         40 non-null     int64 \n",
      " 6   Government_Bonds                   40 non-null     int64 \n",
      " 7   Fixed_Deposits                     40 non-null     int64 \n",
      " 8   PPF                                40 non-null     int64 \n",
      " 9   Gold                               40 non-null     int64 \n",
      " 10  Stock_Marktet                      40 non-null     object\n",
      " 11  Factor                             40 non-null     object\n",
      " 12  Objective                          40 non-null     object\n",
      " 13  Purpose                            40 non-null     object\n",
      " 14  Duration                           40 non-null     object\n",
      " 15  Invest_Monitor                     40 non-null     object\n",
      " 16  Expect                             40 non-null     object\n",
      " 17  Avenue                             40 non-null     object\n",
      " 18  What are your savings objectives?  40 non-null     object\n",
      " 19  Reason_Equity                      40 non-null     object\n",
      " 20  Reason_Mutual                      40 non-null     object\n",
      " 21  Reason_Bonds                       40 non-null     object\n",
      " 22  Reason_FD                          40 non-null     object\n",
      " 23  Source                             40 non-null     object\n",
      "dtypes: int64(8), object(16)\n",
      "memory usage: 7.6+ KB\n"
     ]
    }
   ],
   "source": [
    "df.info()"
   ]
  },
  {
   "cell_type": "markdown",
   "metadata": {},
   "source": [
    "### Here, I am displaying informations about the Dataset, that describes its Numerical Columns only. These Informations include the \"count\", \"Mean\", \"Standard Deviation\", \"Minimum Values\", \"Maximum values\", The first, second, and third quartiles. "
   ]
  },
  {
   "cell_type": "code",
   "execution_count": 5,
   "metadata": {},
   "outputs": [
    {
     "data": {
      "text/html": [
       "<div>\n",
       "<style scoped>\n",
       "    .dataframe tbody tr th:only-of-type {\n",
       "        vertical-align: middle;\n",
       "    }\n",
       "\n",
       "    .dataframe tbody tr th {\n",
       "        vertical-align: top;\n",
       "    }\n",
       "\n",
       "    .dataframe thead th {\n",
       "        text-align: right;\n",
       "    }\n",
       "</style>\n",
       "<table border=\"1\" class=\"dataframe\">\n",
       "  <thead>\n",
       "    <tr style=\"text-align: right;\">\n",
       "      <th></th>\n",
       "      <th>age</th>\n",
       "      <th>Mutual_Funds</th>\n",
       "      <th>Equity_Market</th>\n",
       "      <th>Debentures</th>\n",
       "      <th>Government_Bonds</th>\n",
       "      <th>Fixed_Deposits</th>\n",
       "      <th>PPF</th>\n",
       "      <th>Gold</th>\n",
       "    </tr>\n",
       "  </thead>\n",
       "  <tbody>\n",
       "    <tr>\n",
       "      <th>count</th>\n",
       "      <td>40.000000</td>\n",
       "      <td>40.000000</td>\n",
       "      <td>40.000000</td>\n",
       "      <td>40.000000</td>\n",
       "      <td>40.000000</td>\n",
       "      <td>40.000000</td>\n",
       "      <td>40.000000</td>\n",
       "      <td>40.000000</td>\n",
       "    </tr>\n",
       "    <tr>\n",
       "      <th>mean</th>\n",
       "      <td>27.800000</td>\n",
       "      <td>2.550000</td>\n",
       "      <td>3.475000</td>\n",
       "      <td>5.750000</td>\n",
       "      <td>4.650000</td>\n",
       "      <td>3.575000</td>\n",
       "      <td>2.025000</td>\n",
       "      <td>5.975000</td>\n",
       "    </tr>\n",
       "    <tr>\n",
       "      <th>std</th>\n",
       "      <td>3.560467</td>\n",
       "      <td>1.197219</td>\n",
       "      <td>1.131994</td>\n",
       "      <td>1.675617</td>\n",
       "      <td>1.369072</td>\n",
       "      <td>1.795828</td>\n",
       "      <td>1.609069</td>\n",
       "      <td>1.143263</td>\n",
       "    </tr>\n",
       "    <tr>\n",
       "      <th>min</th>\n",
       "      <td>21.000000</td>\n",
       "      <td>1.000000</td>\n",
       "      <td>1.000000</td>\n",
       "      <td>1.000000</td>\n",
       "      <td>1.000000</td>\n",
       "      <td>1.000000</td>\n",
       "      <td>1.000000</td>\n",
       "      <td>2.000000</td>\n",
       "    </tr>\n",
       "    <tr>\n",
       "      <th>25%</th>\n",
       "      <td>25.750000</td>\n",
       "      <td>2.000000</td>\n",
       "      <td>3.000000</td>\n",
       "      <td>5.000000</td>\n",
       "      <td>4.000000</td>\n",
       "      <td>2.750000</td>\n",
       "      <td>1.000000</td>\n",
       "      <td>6.000000</td>\n",
       "    </tr>\n",
       "    <tr>\n",
       "      <th>50%</th>\n",
       "      <td>27.000000</td>\n",
       "      <td>2.000000</td>\n",
       "      <td>4.000000</td>\n",
       "      <td>6.500000</td>\n",
       "      <td>5.000000</td>\n",
       "      <td>3.500000</td>\n",
       "      <td>1.000000</td>\n",
       "      <td>6.000000</td>\n",
       "    </tr>\n",
       "    <tr>\n",
       "      <th>75%</th>\n",
       "      <td>30.000000</td>\n",
       "      <td>3.000000</td>\n",
       "      <td>4.000000</td>\n",
       "      <td>7.000000</td>\n",
       "      <td>5.000000</td>\n",
       "      <td>5.000000</td>\n",
       "      <td>2.250000</td>\n",
       "      <td>7.000000</td>\n",
       "    </tr>\n",
       "    <tr>\n",
       "      <th>max</th>\n",
       "      <td>35.000000</td>\n",
       "      <td>7.000000</td>\n",
       "      <td>6.000000</td>\n",
       "      <td>7.000000</td>\n",
       "      <td>7.000000</td>\n",
       "      <td>7.000000</td>\n",
       "      <td>6.000000</td>\n",
       "      <td>7.000000</td>\n",
       "    </tr>\n",
       "  </tbody>\n",
       "</table>\n",
       "</div>"
      ],
      "text/plain": [
       "             age  Mutual_Funds  Equity_Market  Debentures  Government_Bonds  \\\n",
       "count  40.000000     40.000000      40.000000   40.000000         40.000000   \n",
       "mean   27.800000      2.550000       3.475000    5.750000          4.650000   \n",
       "std     3.560467      1.197219       1.131994    1.675617          1.369072   \n",
       "min    21.000000      1.000000       1.000000    1.000000          1.000000   \n",
       "25%    25.750000      2.000000       3.000000    5.000000          4.000000   \n",
       "50%    27.000000      2.000000       4.000000    6.500000          5.000000   \n",
       "75%    30.000000      3.000000       4.000000    7.000000          5.000000   \n",
       "max    35.000000      7.000000       6.000000    7.000000          7.000000   \n",
       "\n",
       "       Fixed_Deposits        PPF       Gold  \n",
       "count       40.000000  40.000000  40.000000  \n",
       "mean         3.575000   2.025000   5.975000  \n",
       "std          1.795828   1.609069   1.143263  \n",
       "min          1.000000   1.000000   2.000000  \n",
       "25%          2.750000   1.000000   6.000000  \n",
       "50%          3.500000   1.000000   6.000000  \n",
       "75%          5.000000   2.250000   7.000000  \n",
       "max          7.000000   6.000000   7.000000  "
      ]
     },
     "execution_count": 5,
     "metadata": {},
     "output_type": "execute_result"
    }
   ],
   "source": [
    "df.describe()"
   ]
  },
  {
   "cell_type": "markdown",
   "metadata": {},
   "source": [
    "### Here, I am displaying informations about the Dataset, that tells the data type that is being entered in the data . "
   ]
  },
  {
   "cell_type": "code",
   "execution_count": 6,
   "metadata": {},
   "outputs": [
    {
     "data": {
      "text/plain": [
       "gender                               object\n",
       "age                                   int64\n",
       "Investment_Avenues                   object\n",
       "Mutual_Funds                          int64\n",
       "Equity_Market                         int64\n",
       "Debentures                            int64\n",
       "Government_Bonds                      int64\n",
       "Fixed_Deposits                        int64\n",
       "PPF                                   int64\n",
       "Gold                                  int64\n",
       "Stock_Marktet                        object\n",
       "Factor                               object\n",
       "Objective                            object\n",
       "Purpose                              object\n",
       "Duration                             object\n",
       "Invest_Monitor                       object\n",
       "Expect                               object\n",
       "Avenue                               object\n",
       "What are your savings objectives?    object\n",
       "Reason_Equity                        object\n",
       "Reason_Mutual                        object\n",
       "Reason_Bonds                         object\n",
       "Reason_FD                            object\n",
       "Source                               object\n",
       "dtype: object"
      ]
     },
     "execution_count": 6,
     "metadata": {},
     "output_type": "execute_result"
    }
   ],
   "source": [
    "df.dtypes"
   ]
  },
  {
   "cell_type": "markdown",
   "metadata": {},
   "source": [
    "### Here, I am displaying informations about the Dataset, that describes the number of unique Values (enteries) down the columns."
   ]
  },
  {
   "cell_type": "code",
   "execution_count": 7,
   "metadata": {},
   "outputs": [
    {
     "data": {
      "text/plain": [
       "gender                                2\n",
       "age                                  14\n",
       "Investment_Avenues                    2\n",
       "Mutual_Funds                          6\n",
       "Equity_Market                         6\n",
       "Debentures                            7\n",
       "Government_Bonds                      7\n",
       "Fixed_Deposits                        7\n",
       "PPF                                   6\n",
       "Gold                                  6\n",
       "Stock_Marktet                         2\n",
       "Factor                                3\n",
       "Objective                             3\n",
       "Purpose                               3\n",
       "Duration                              4\n",
       "Invest_Monitor                        3\n",
       "Expect                                3\n",
       "Avenue                                4\n",
       "What are your savings objectives?     3\n",
       "Reason_Equity                         3\n",
       "Reason_Mutual                         3\n",
       "Reason_Bonds                          3\n",
       "Reason_FD                             3\n",
       "Source                                4\n",
       "dtype: int64"
      ]
     },
     "execution_count": 7,
     "metadata": {},
     "output_type": "execute_result"
    }
   ],
   "source": [
    "df.nunique()"
   ]
  },
  {
   "cell_type": "markdown",
   "metadata": {},
   "source": [
    "## Descriptive Statistics:\n",
    "#### From the dataset, we can see that this financial Data is made up of 40 rows and 24 columns. These rows and colums all have enteries in their cells, that is to say that there is no empty cell. The columns are made up of 2 datatypes, \"8 Intergers\" and \"16 Objects\" (strings). We can see that the \"Age\" column has more number of unique elements, and shows that there are 14 different ages."
   ]
  },
  {
   "cell_type": "markdown",
   "metadata": {},
   "source": [
    "## Task 2: Gender Distribution\n",
    "## Objective: Visualize gender distribution in the dataset."
   ]
  },
  {
   "cell_type": "markdown",
   "metadata": {},
   "source": [
    "### Exctracting the Gender Information and saving as a single column dataframe, we have:"
   ]
  },
  {
   "cell_type": "code",
   "execution_count": 8,
   "metadata": {},
   "outputs": [
    {
     "name": "stdout",
     "output_type": "stream",
     "text": [
      "    gender\n",
      "0   Female\n",
      "1   Female\n",
      "2     Male\n",
      "3     Male\n",
      "4   Female\n",
      "5   Female\n",
      "6   Female\n",
      "7     Male\n",
      "8     Male\n",
      "9     Male\n",
      "10  Female\n",
      "11    Male\n",
      "12  Female\n",
      "13  Female\n",
      "14  Female\n",
      "15    Male\n",
      "16  Female\n",
      "17    Male\n",
      "18    Male\n",
      "19    Male\n",
      "20    Male\n",
      "21  Female\n",
      "22    Male\n",
      "23    Male\n",
      "24  Female\n",
      "25  Female\n",
      "26    Male\n",
      "27    Male\n",
      "28    Male\n",
      "29  Female\n",
      "30    Male\n",
      "31  Female\n",
      "32    Male\n",
      "33    Male\n",
      "34    Male\n",
      "35    Male\n",
      "36    Male\n",
      "37    Male\n",
      "38    Male\n",
      "39    Male\n"
     ]
    }
   ],
   "source": [
    "gender_df = df[['gender']]\n",
    "print (gender_df)"
   ]
  },
  {
   "cell_type": "code",
   "execution_count": 9,
   "metadata": {},
   "outputs": [
    {
     "name": "stdout",
     "output_type": "stream",
     "text": [
      "gender    40\n",
      "dtype: int64\n"
     ]
    }
   ],
   "source": [
    "df2 = gender_df\n",
    "print(df2.count())"
   ]
  },
  {
   "cell_type": "markdown",
   "metadata": {},
   "source": [
    "## Gender Distribution in a Pie Chart Visual"
   ]
  },
  {
   "cell_type": "code",
   "execution_count": 10,
   "metadata": {},
   "outputs": [
    {
     "data": {
      "image/png": "[encoded data removed]",
      "text/plain": [
       "<Figure size 700x700 with 1 Axes>"
      ]
     },
     "metadata": {},
     "output_type": "display_data"
    }
   ],
   "source": [
    "gender_counts = df2['gender'].value_counts() # Count of each sex in the dataset.\n",
    "\n",
    "plt.figure(figsize=(7, 7)) # Size of the plot.\n",
    "\n",
    "plt.pie(gender_counts, labels = gender_counts.index, autopct = '%1.2f%%', startangle = 20, colors = ['skyblue', 'pink']) # Plotting the pie chart, setting  the labels, angle, slice colors, and method of legeng (in this case, I choose to use the %).\n",
    "\n",
    "plt.title('Gender Distribution in the Dataset (in %)') # Title of the plot.\n",
    "\n",
    "plt.legend(gender_counts.index, loc = 'upper right') # Legend of the plot.\n",
    "\n",
    "plt.show() # Display the plot."
   ]
  },
  {
   "cell_type": "markdown",
   "metadata": {},
   "source": [
    "### We can see from the pie chart, that the dataset contaims a larger number of Males than women."
   ]
  }
 ],
 "metadata": {
  "kernelspec": {
   "display_name": "Python 3",
   "language": "python",
   "name": "python3"
  },
  "language_info": {
   "codemirror_mode": {
    "name": "ipython",
    "version": 3
   },
   "file_extension": ".py",
   "mimetype": "text/x-python",
   "name": "python",
   "nbconvert_exporter": "python",
   "pygments_lexer": "ipython3",
   "version": "3.12.7"
  }
 },
 "nbformat": 4,
 "nbformat_minor": 2
}
