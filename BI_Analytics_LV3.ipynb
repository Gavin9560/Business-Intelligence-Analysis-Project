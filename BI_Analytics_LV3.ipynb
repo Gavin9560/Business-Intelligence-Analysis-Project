{
 "cells": [
  {
   "cell_type": "markdown",
   "metadata": {},
   "source": [
    "# Business Analytics Tasks, Level 3."
   ]
  },
  {
   "cell_type": "markdown",
   "metadata": {},
   "source": [
    "## Task 5: Reasons for Investment\n",
    "#### Objective: To Analyze and summarize reasons for investment choices."
   ]
  },
  {
   "cell_type": "code",
   "execution_count": 1,
   "metadata": {},
   "outputs": [],
   "source": [
    "# Starting by Importing some useful libraries, we have:\n",
    "import pandas as pd\n",
    "import matplotlib.pyplot as plt\n",
    "import seaborn  as sns\n",
    "import numpy as np\n",
    "from collections import Counter"
   ]
  },
  {
   "cell_type": "markdown",
   "metadata": {},
   "source": [
    "Loading and reading the dataset csv file."
   ]
  },
  {
   "cell_type": "code",
   "execution_count": 2,
   "metadata": {},
   "outputs": [],
   "source": [
    "df = pd.read_csv('Data_set 2.csv')"
   ]
  },
  {
   "cell_type": "markdown",
   "metadata": {},
   "source": [
    "### Displaying the entire dataset to identify and have a glimpse of the data columns again."
   ]
  },
  {
   "cell_type": "code",
   "execution_count": 3,
   "metadata": {},
   "outputs": [
    {
     "name": "stdout",
     "output_type": "stream",
     "text": [
      "    gender  age Investment_Avenues  Mutual_Funds  Equity_Market  Debentures  Government_Bonds  Fixed_Deposits  PPF  Gold Stock_Marktet          Factor             Objective             Purpose           Duration Invest_Monitor   Expect                 Avenue What are your savings objectives?         Reason_Equity         Reason_Mutual     Reason_Bonds            Reason_FD                    Source\n",
      "0   Female   34                Yes             1              2           5                 3               7    6     4           Yes         Returns  Capital Appreciation     Wealth Creation          1-3 years        Monthly  20%-30%            Mutual Fund                   Retirement Plan  Capital Appreciation        Better Returns  Safe Investment        Fixed Returns  Newspapers and Magazines\n",
      "1   Female   23                Yes             4              3           2                 1               5    6     7            No  Locking Period  Capital Appreciation     Wealth Creation  More than 5 years         Weekly  20%-30%            Mutual Fund                       Health Care              Dividend        Better Returns  Safe Investment  High Interest Rates     Financial Consultants\n",
      "2     Male   30                Yes             3              6           4                 2               5    1     7           Yes         Returns  Capital Appreciation     Wealth Creation          3-5 years          Daily  20%-30%                 Equity                   Retirement Plan  Capital Appreciation          Tax Benefits  Assured Returns        Fixed Returns                Television\n",
      "3     Male   22                Yes             2              1           3                 7               6    4     5           Yes         Returns                Income     Wealth Creation   Less than 1 year          Daily  10%-20%                 Equity                   Retirement Plan              Dividend  Fund Diversification   Tax Incentives  High Interest Rates                  Internet\n",
      "4   Female   24                 No             2              1           3                 6               4    5     7            No         Returns                Income     Wealth Creation   Less than 1 year          Daily  20%-30%                 Equity                   Retirement Plan  Capital Appreciation        Better Returns  Safe Investment            Risk Free                  Internet\n",
      "5   Female   24                 No             7              5           4                 6               3    1     2            No            Risk  Capital Appreciation     Wealth Creation          1-3 years          Daily  30%-40%            Mutual Fund                   Retirement Plan             Liquidity  Fund Diversification  Safe Investment            Risk Free                  Internet\n",
      "6   Female   27                Yes             3              6           4                 2               5    1     7           Yes         Returns  Capital Appreciation     Wealth Creation          3-5 years        Monthly  20%-30%                 Equity                   Retirement Plan  Capital Appreciation        Better Returns  Assured Returns  High Interest Rates     Financial Consultants\n",
      "7     Male   21                Yes             2              3           7                 4               6    1     5           Yes            Risk  Capital Appreciation     Wealth Creation          3-5 years        Monthly  20%-30%            Mutual Fund                   Retirement Plan  Capital Appreciation        Better Returns  Assured Returns            Risk Free  Newspapers and Magazines\n",
      "8     Male   35                Yes             2              4           7                 5               3    1     6           Yes         Returns                Growth  Savings for Future          1-3 years         Weekly  20%-30%                 Equity                   Retirement Plan  Capital Appreciation  Fund Diversification  Safe Investment        Fixed Returns                Television\n",
      "9     Male   31                Yes             1              3           7                 4               5    2     6           Yes         Returns  Capital Appreciation     Wealth Creation          3-5 years        Monthly  30%-40%         Fixed Deposits                   Retirement Plan  Capital Appreciation  Fund Diversification  Assured Returns        Fixed Returns  Newspapers and Magazines\n",
      "10  Female   35                Yes             2              4           7                 5               3    1     6           Yes            Risk                Growth  Savings for Future          3-5 years        Monthly  20%-30%            Mutual Fund                   Retirement Plan  Capital Appreciation        Better Returns  Assured Returns            Risk Free     Financial Consultants\n",
      "11    Male   29                Yes             2              5           7                 6               3    1     4           Yes            Risk  Capital Appreciation     Wealth Creation          1-3 years        Monthly  20%-30%            Mutual Fund                   Retirement Plan  Capital Appreciation  Fund Diversification  Assured Returns        Fixed Returns     Financial Consultants\n",
      "12  Female   21                 No             1              2           3                 4               5    6     7            No         Returns  Capital Appreciation  Savings for Future          1-3 years         Weekly  20%-30%            Mutual Fund                         Education              Dividend        Better Returns  Safe Investment            Risk Free                  Internet\n",
      "13  Female   28                Yes             2              3           7                 4               5    1     6           Yes         Returns  Capital Appreciation     Wealth Creation          1-3 years        Monthly  20%-30%            Mutual Fund                   Retirement Plan  Capital Appreciation  Fund Diversification  Assured Returns            Risk Free  Newspapers and Magazines\n",
      "14  Female   25                Yes             2              3           7                 5               4    1     6           Yes         Returns  Capital Appreciation     Wealth Creation          1-3 years        Monthly  20%-30%         Fixed Deposits                       Health Care              Dividend        Better Returns  Assured Returns            Risk Free     Financial Consultants\n",
      "15    Male   27                Yes             2              3           7                 5               4    1     6           Yes         Returns  Capital Appreciation     Wealth Creation          1-3 years        Monthly  20%-30%            Mutual Fund                       Health Care  Capital Appreciation  Fund Diversification  Assured Returns            Risk Free  Newspapers and Magazines\n",
      "16  Female   28                Yes             3              2           7                 5               4    1     6           Yes            Risk                Growth     Wealth Creation          1-3 years        Monthly  20%-30%         Fixed Deposits                       Health Care  Capital Appreciation  Fund Diversification  Assured Returns            Risk Free                Television\n",
      "17    Male   27                Yes             3              2           7                 4               5    1     6           Yes         Returns  Capital Appreciation     Wealth Creation          1-3 years        Monthly  20%-30%            Mutual Fund                   Retirement Plan  Capital Appreciation        Better Returns  Assured Returns            Risk Free     Financial Consultants\n",
      "18    Male   29                Yes             3              2           7                 4               5    1     6           Yes            Risk  Capital Appreciation     Wealth Creation          1-3 years        Monthly  20%-30%            Mutual Fund                   Retirement Plan  Capital Appreciation        Better Returns  Assured Returns            Risk Free  Newspapers and Magazines\n",
      "19    Male   26                Yes             3              4           6                 5               1    2     7           Yes            Risk  Capital Appreciation     Wealth Creation          3-5 years        Monthly  20%-30%         Fixed Deposits                       Health Care  Capital Appreciation  Fund Diversification  Assured Returns            Risk Free  Newspapers and Magazines\n",
      "20    Male   29                Yes             2              4           7                 5               3    1     6           Yes         Returns                Growth     Wealth Creation          3-5 years         Weekly  20%-30%            Mutual Fund                   Retirement Plan  Capital Appreciation        Better Returns  Assured Returns        Fixed Returns     Financial Consultants\n",
      "21  Female   24                Yes             2              4           5                 6               3    1     7           Yes            Risk  Capital Appreciation     Wealth Creation          3-5 years        Monthly  20%-30%                 Equity                       Health Care  Capital Appreciation        Better Returns  Assured Returns            Risk Free  Newspapers and Magazines\n",
      "22    Male   27                Yes             3              4           6                 5               2    1     7           Yes         Returns  Capital Appreciation     Wealth Creation          3-5 years        Monthly  20%-30%            Mutual Fund                   Retirement Plan  Capital Appreciation        Better Returns  Assured Returns            Risk Free     Financial Consultants\n",
      "23    Male   25                Yes             2              4           6                 5               3    1     7           Yes            Risk                Growth  Savings for Future          3-5 years         Weekly  20%-30%  Public Provident Fund                       Health Care             Liquidity        Better Returns  Assured Returns            Risk Free     Financial Consultants\n",
      "24  Female   26                Yes             2              3           7                 5               4    1     6           Yes         Returns  Capital Appreciation     Wealth Creation          3-5 years        Monthly  30%-40%  Public Provident Fund                   Retirement Plan  Capital Appreciation        Better Returns  Assured Returns            Risk Free  Newspapers and Magazines\n",
      "25  Female   32                Yes             3              4           7                 5               1    2     6           Yes            Risk                Growth     Wealth Creation          3-5 years        Monthly  20%-30%            Mutual Fund                   Retirement Plan  Capital Appreciation        Better Returns  Assured Returns        Fixed Returns     Financial Consultants\n",
      "26    Male   26                Yes             3              4           6                 5               1    2     7           Yes         Returns  Capital Appreciation     Wealth Creation          3-5 years        Monthly  20%-30%            Mutual Fund                   Retirement Plan              Dividend  Fund Diversification  Assured Returns        Fixed Returns     Financial Consultants\n",
      "27    Male   31                Yes             2              3           7                 6               4    1     5           Yes            Risk                Growth  Savings for Future          1-3 years        Monthly  20%-30%         Fixed Deposits                       Health Care  Capital Appreciation  Fund Diversification  Safe Investment        Fixed Returns                Television\n",
      "28    Male   29                Yes             2              3           6                 5               1    4     7           Yes         Returns  Capital Appreciation     Wealth Creation          1-3 years        Monthly  20%-30%                 Equity                   Retirement Plan  Capital Appreciation        Better Returns  Assured Returns            Risk Free                Television\n",
      "29  Female   34                Yes             5              4           3                 2               7    1     6           Yes         Returns                Income             Returns          3-5 years        Monthly  10%-20%            Mutual Fund                   Retirement Plan  Capital Appreciation          Tax Benefits  Safe Investment        Fixed Returns  Newspapers and Magazines\n",
      "30    Male   27                Yes             4              5           1                 2               7    3     6            No         Returns                Growth     Wealth Creation          1-3 years        Monthly  10%-20%            Mutual Fund                         Education  Capital Appreciation          Tax Benefits  Safe Investment        Fixed Returns                Television\n",
      "31  Female   31                Yes             2              4           7                 6               3    1     5           Yes         Returns  Capital Appreciation     Wealth Creation          3-5 years        Monthly  20%-30%         Fixed Deposits                   Retirement Plan  Capital Appreciation        Better Returns  Assured Returns        Fixed Returns     Financial Consultants\n",
      "32    Male   27                Yes             2              4           7                 5               1    3     6           Yes         Returns  Capital Appreciation     Wealth Creation          3-5 years        Monthly  30%-40%                 Equity                       Health Care  Capital Appreciation  Fund Diversification  Assured Returns        Fixed Returns  Newspapers and Magazines\n",
      "33    Male   26                Yes             2              3           6                 4               1    5     7           Yes         Returns  Capital Appreciation             Returns          1-3 years        Monthly  20%-30%         Fixed Deposits                         Education              Dividend        Better Returns  Safe Investment            Risk Free  Newspapers and Magazines\n",
      "34    Male   27                Yes             2              3           6                 5               4    1     7           Yes         Returns  Capital Appreciation     Wealth Creation          1-3 years         Weekly  20%-30%            Mutual Fund                       Health Care  Capital Appreciation        Better Returns  Safe Investment        Fixed Returns     Financial Consultants\n",
      "35    Male   30                Yes             1              4           6                 5               3    2     7           Yes            Risk                Growth     Wealth Creation          3-5 years        Monthly  20%-30%         Fixed Deposits                       Health Care  Capital Appreciation        Better Returns  Assured Returns        Fixed Returns     Financial Consultants\n",
      "36    Male   30                Yes             2              4           7                 5               1    3     6           Yes         Returns  Capital Appreciation     Wealth Creation          1-3 years        Monthly  20%-30%                 Equity                   Retirement Plan  Capital Appreciation        Better Returns  Assured Returns            Risk Free  Newspapers and Magazines\n",
      "37    Male   25                Yes             5              4           7                 6               1    2     3           Yes            Risk                Growth  Savings for Future          3-5 years        Monthly  30%-40%  Public Provident Fund                       Health Care  Capital Appreciation        Better Returns  Safe Investment        Fixed Returns     Financial Consultants\n",
      "38    Male   31                Yes             2              4           7                 5               3    1     6           Yes            Risk                Growth     Wealth Creation          1-3 years         Weekly  20%-30%                 Equity                       Health Care              Dividend  Fund Diversification  Assured Returns        Fixed Returns  Newspapers and Magazines\n",
      "39    Male   29                Yes             4              3           5                 7               2    1     6           Yes         Returns  Capital Appreciation     Wealth Creation          3-5 years        Monthly  20%-30%         Fixed Deposits                   Retirement Plan              Dividend        Better Returns  Safe Investment        Fixed Returns     Financial Consultants\n"
     ]
    }
   ],
   "source": [
    "print(df.to_string())"
   ]
  },
  {
   "cell_type": "code",
   "execution_count": 4,
   "metadata": {},
   "outputs": [
    {
     "name": "stdout",
     "output_type": "stream",
     "text": [
      "           Reason_Equity         Reason_Mutual     Reason_Bonds            Reason_FD\n",
      "0   Capital Appreciation        Better Returns  Safe Investment        Fixed Returns\n",
      "1               Dividend        Better Returns  Safe Investment  High Interest Rates\n",
      "2   Capital Appreciation          Tax Benefits  Assured Returns        Fixed Returns\n",
      "3               Dividend  Fund Diversification   Tax Incentives  High Interest Rates\n",
      "4   Capital Appreciation        Better Returns  Safe Investment            Risk Free\n",
      "5              Liquidity  Fund Diversification  Safe Investment            Risk Free\n",
      "6   Capital Appreciation        Better Returns  Assured Returns  High Interest Rates\n",
      "7   Capital Appreciation        Better Returns  Assured Returns            Risk Free\n",
      "8   Capital Appreciation  Fund Diversification  Safe Investment        Fixed Returns\n",
      "9   Capital Appreciation  Fund Diversification  Assured Returns        Fixed Returns\n",
      "10  Capital Appreciation        Better Returns  Assured Returns            Risk Free\n",
      "11  Capital Appreciation  Fund Diversification  Assured Returns        Fixed Returns\n",
      "12              Dividend        Better Returns  Safe Investment            Risk Free\n",
      "13  Capital Appreciation  Fund Diversification  Assured Returns            Risk Free\n",
      "14              Dividend        Better Returns  Assured Returns            Risk Free\n",
      "15  Capital Appreciation  Fund Diversification  Assured Returns            Risk Free\n",
      "16  Capital Appreciation  Fund Diversification  Assured Returns            Risk Free\n",
      "17  Capital Appreciation        Better Returns  Assured Returns            Risk Free\n",
      "18  Capital Appreciation        Better Returns  Assured Returns            Risk Free\n",
      "19  Capital Appreciation  Fund Diversification  Assured Returns            Risk Free\n",
      "20  Capital Appreciation        Better Returns  Assured Returns        Fixed Returns\n",
      "21  Capital Appreciation        Better Returns  Assured Returns            Risk Free\n",
      "22  Capital Appreciation        Better Returns  Assured Returns            Risk Free\n",
      "23             Liquidity        Better Returns  Assured Returns            Risk Free\n",
      "24  Capital Appreciation        Better Returns  Assured Returns            Risk Free\n",
      "25  Capital Appreciation        Better Returns  Assured Returns        Fixed Returns\n",
      "26              Dividend  Fund Diversification  Assured Returns        Fixed Returns\n",
      "27  Capital Appreciation  Fund Diversification  Safe Investment        Fixed Returns\n",
      "28  Capital Appreciation        Better Returns  Assured Returns            Risk Free\n",
      "29  Capital Appreciation          Tax Benefits  Safe Investment        Fixed Returns\n",
      "30  Capital Appreciation          Tax Benefits  Safe Investment        Fixed Returns\n",
      "31  Capital Appreciation        Better Returns  Assured Returns        Fixed Returns\n",
      "32  Capital Appreciation  Fund Diversification  Assured Returns        Fixed Returns\n",
      "33              Dividend        Better Returns  Safe Investment            Risk Free\n",
      "34  Capital Appreciation        Better Returns  Safe Investment        Fixed Returns\n",
      "35  Capital Appreciation        Better Returns  Assured Returns        Fixed Returns\n",
      "36  Capital Appreciation        Better Returns  Assured Returns            Risk Free\n",
      "37  Capital Appreciation        Better Returns  Safe Investment        Fixed Returns\n",
      "38              Dividend  Fund Diversification  Assured Returns        Fixed Returns\n",
      "39              Dividend        Better Returns  Safe Investment        Fixed Returns\n"
     ]
    }
   ],
   "source": [
    "# Displaying only columns with \"reasons\"\n",
    "reason_columns = df.filter(like='Reason')\n",
    "\n",
    "# Display the selected columns\n",
    "print(reason_columns.to_string())"
   ]
  },
  {
   "cell_type": "code",
   "execution_count": 5,
   "metadata": {},
   "outputs": [
    {
     "name": "stdout",
     "output_type": "stream",
     "text": [
      "<class 'pandas.core.frame.DataFrame'>\n",
      "RangeIndex: 40 entries, 0 to 39\n",
      "Data columns (total 4 columns):\n",
      " #   Column         Non-Null Count  Dtype \n",
      "---  ------         --------------  ----- \n",
      " 0   Reason_Equity  40 non-null     object\n",
      " 1   Reason_Mutual  40 non-null     object\n",
      " 2   Reason_Bonds   40 non-null     object\n",
      " 3   Reason_FD      40 non-null     object\n",
      "dtypes: object(4)\n",
      "memory usage: 1.4+ KB\n"
     ]
    },
    {
     "data": {
      "text/html": [
       "<div>\n",
       "<style scoped>\n",
       "    .dataframe tbody tr th:only-of-type {\n",
       "        vertical-align: middle;\n",
       "    }\n",
       "\n",
       "    .dataframe tbody tr th {\n",
       "        vertical-align: top;\n",
       "    }\n",
       "\n",
       "    .dataframe thead th {\n",
       "        text-align: right;\n",
       "    }\n",
       "</style>\n",
       "<table border=\"1\" class=\"dataframe\">\n",
       "  <thead>\n",
       "    <tr style=\"text-align: right;\">\n",
       "      <th></th>\n",
       "      <th>Reason_Equity</th>\n",
       "      <th>Reason_Mutual</th>\n",
       "      <th>Reason_Bonds</th>\n",
       "      <th>Reason_FD</th>\n",
       "    </tr>\n",
       "  </thead>\n",
       "  <tbody>\n",
       "    <tr>\n",
       "      <th>count</th>\n",
       "      <td>40</td>\n",
       "      <td>40</td>\n",
       "      <td>40</td>\n",
       "      <td>40</td>\n",
       "    </tr>\n",
       "    <tr>\n",
       "      <th>unique</th>\n",
       "      <td>3</td>\n",
       "      <td>3</td>\n",
       "      <td>3</td>\n",
       "      <td>3</td>\n",
       "    </tr>\n",
       "    <tr>\n",
       "      <th>top</th>\n",
       "      <td>Capital Appreciation</td>\n",
       "      <td>Better Returns</td>\n",
       "      <td>Assured Returns</td>\n",
       "      <td>Risk Free</td>\n",
       "    </tr>\n",
       "    <tr>\n",
       "      <th>freq</th>\n",
       "      <td>30</td>\n",
       "      <td>24</td>\n",
       "      <td>26</td>\n",
       "      <td>19</td>\n",
       "    </tr>\n",
       "  </tbody>\n",
       "</table>\n",
       "</div>"
      ],
      "text/plain": [
       "               Reason_Equity   Reason_Mutual     Reason_Bonds  Reason_FD\n",
       "count                     40              40               40         40\n",
       "unique                     3               3                3          3\n",
       "top     Capital Appreciation  Better Returns  Assured Returns  Risk Free\n",
       "freq                      30              24               26         19"
      ]
     },
     "execution_count": 5,
     "metadata": {},
     "output_type": "execute_result"
    }
   ],
   "source": [
    "reason_columns.info()\n",
    "reason_columns.describe()"
   ]
  },
  {
   "cell_type": "code",
   "execution_count": 6,
   "metadata": {},
   "outputs": [
    {
     "name": "stdout",
     "output_type": "stream",
     "text": [
      "               Purpose\n",
      "0      Wealth Creation\n",
      "1      Wealth Creation\n",
      "2      Wealth Creation\n",
      "3      Wealth Creation\n",
      "4      Wealth Creation\n",
      "5      Wealth Creation\n",
      "6      Wealth Creation\n",
      "7      Wealth Creation\n",
      "8   Savings for Future\n",
      "9      Wealth Creation\n",
      "10  Savings for Future\n",
      "11     Wealth Creation\n",
      "12  Savings for Future\n",
      "13     Wealth Creation\n",
      "14     Wealth Creation\n",
      "15     Wealth Creation\n",
      "16     Wealth Creation\n",
      "17     Wealth Creation\n",
      "18     Wealth Creation\n",
      "19     Wealth Creation\n",
      "20     Wealth Creation\n",
      "21     Wealth Creation\n",
      "22     Wealth Creation\n",
      "23  Savings for Future\n",
      "24     Wealth Creation\n",
      "25     Wealth Creation\n",
      "26     Wealth Creation\n",
      "27  Savings for Future\n",
      "28     Wealth Creation\n",
      "29             Returns\n",
      "30     Wealth Creation\n",
      "31     Wealth Creation\n",
      "32     Wealth Creation\n",
      "33             Returns\n",
      "34     Wealth Creation\n",
      "35     Wealth Creation\n",
      "36     Wealth Creation\n",
      "37  Savings for Future\n",
      "38     Wealth Creation\n",
      "39     Wealth Creation\n"
     ]
    }
   ],
   "source": [
    "purpose_df = df[['Purpose']]\n",
    "print (purpose_df )"
   ]
  },
  {
   "cell_type": "code",
   "execution_count": 7,
   "metadata": {},
   "outputs": [
    {
     "name": "stdout",
     "output_type": "stream",
     "text": [
      "<class 'pandas.core.frame.DataFrame'>\n",
      "RangeIndex: 40 entries, 0 to 39\n",
      "Data columns (total 1 columns):\n",
      " #   Column   Non-Null Count  Dtype \n",
      "---  ------   --------------  ----- \n",
      " 0   Purpose  40 non-null     object\n",
      "dtypes: object(1)\n",
      "memory usage: 452.0+ bytes\n"
     ]
    },
    {
     "data": {
      "text/html": [
       "<div>\n",
       "<style scoped>\n",
       "    .dataframe tbody tr th:only-of-type {\n",
       "        vertical-align: middle;\n",
       "    }\n",
       "\n",
       "    .dataframe tbody tr th {\n",
       "        vertical-align: top;\n",
       "    }\n",
       "\n",
       "    .dataframe thead th {\n",
       "        text-align: right;\n",
       "    }\n",
       "</style>\n",
       "<table border=\"1\" class=\"dataframe\">\n",
       "  <thead>\n",
       "    <tr style=\"text-align: right;\">\n",
       "      <th></th>\n",
       "      <th>Purpose</th>\n",
       "    </tr>\n",
       "  </thead>\n",
       "  <tbody>\n",
       "    <tr>\n",
       "      <th>count</th>\n",
       "      <td>40</td>\n",
       "    </tr>\n",
       "    <tr>\n",
       "      <th>unique</th>\n",
       "      <td>3</td>\n",
       "    </tr>\n",
       "    <tr>\n",
       "      <th>top</th>\n",
       "      <td>Wealth Creation</td>\n",
       "    </tr>\n",
       "    <tr>\n",
       "      <th>freq</th>\n",
       "      <td>32</td>\n",
       "    </tr>\n",
       "  </tbody>\n",
       "</table>\n",
       "</div>"
      ],
      "text/plain": [
       "                Purpose\n",
       "count                40\n",
       "unique                3\n",
       "top     Wealth Creation\n",
       "freq                 32"
      ]
     },
     "execution_count": 7,
     "metadata": {},
     "output_type": "execute_result"
    }
   ],
   "source": [
    "purpose_df.info()\n",
    "purpose_df.describe()"
   ]
  },
  {
   "cell_type": "markdown",
   "metadata": {},
   "source": [
    "### Summary of reasons for Investments:\n",
    "#### From the outputs above, we can see that for each type of investment, \"Capital Appreciation\", \"Better Returns\", \"Assured Returns\", and \"Risk Free\" are the top reasons, and in the long run, we can see that the investors are generally aimed at \"wealth Creation\". \"Wealth Creation\" is the main aim of their Investment choices, haing considered all other factors. "
   ]
  },
  {
   "cell_type": "markdown",
   "metadata": {},
   "source": [
    "## Task 6: Savings Objectives\n",
    "### Objective: To Identify and present main savings objectives."
   ]
  },
  {
   "cell_type": "markdown",
   "metadata": {},
   "source": [
    "#### Displaying the Savings Objectives column, describing them, we have:"
   ]
  },
  {
   "cell_type": "code",
   "execution_count": 8,
   "metadata": {},
   "outputs": [
    {
     "name": "stdout",
     "output_type": "stream",
     "text": [
      "   What are your savings objectives?\n",
      "0                    Retirement Plan\n",
      "1                        Health Care\n",
      "2                    Retirement Plan\n",
      "3                    Retirement Plan\n",
      "4                    Retirement Plan\n",
      "5                    Retirement Plan\n",
      "6                    Retirement Plan\n",
      "7                    Retirement Plan\n",
      "8                    Retirement Plan\n",
      "9                    Retirement Plan\n",
      "10                   Retirement Plan\n",
      "11                   Retirement Plan\n",
      "12                         Education\n",
      "13                   Retirement Plan\n",
      "14                       Health Care\n",
      "15                       Health Care\n",
      "16                       Health Care\n",
      "17                   Retirement Plan\n",
      "18                   Retirement Plan\n",
      "19                       Health Care\n",
      "20                   Retirement Plan\n",
      "21                       Health Care\n",
      "22                   Retirement Plan\n",
      "23                       Health Care\n",
      "24                   Retirement Plan\n",
      "25                   Retirement Plan\n",
      "26                   Retirement Plan\n",
      "27                       Health Care\n",
      "28                   Retirement Plan\n",
      "29                   Retirement Plan\n",
      "30                         Education\n",
      "31                   Retirement Plan\n",
      "32                       Health Care\n",
      "33                         Education\n",
      "34                       Health Care\n",
      "35                       Health Care\n",
      "36                   Retirement Plan\n",
      "37                       Health Care\n",
      "38                       Health Care\n",
      "39                   Retirement Plan\n",
      "<class 'pandas.core.frame.DataFrame'>\n",
      "RangeIndex: 40 entries, 0 to 39\n",
      "Data columns (total 1 columns):\n",
      " #   Column                             Non-Null Count  Dtype \n",
      "---  ------                             --------------  ----- \n",
      " 0   What are your savings objectives?  40 non-null     object\n",
      "dtypes: object(1)\n",
      "memory usage: 452.0+ bytes\n"
     ]
    },
    {
     "data": {
      "text/html": [
       "<div>\n",
       "<style scoped>\n",
       "    .dataframe tbody tr th:only-of-type {\n",
       "        vertical-align: middle;\n",
       "    }\n",
       "\n",
       "    .dataframe tbody tr th {\n",
       "        vertical-align: top;\n",
       "    }\n",
       "\n",
       "    .dataframe thead th {\n",
       "        text-align: right;\n",
       "    }\n",
       "</style>\n",
       "<table border=\"1\" class=\"dataframe\">\n",
       "  <thead>\n",
       "    <tr style=\"text-align: right;\">\n",
       "      <th></th>\n",
       "      <th>What are your savings objectives?</th>\n",
       "    </tr>\n",
       "  </thead>\n",
       "  <tbody>\n",
       "    <tr>\n",
       "      <th>count</th>\n",
       "      <td>40</td>\n",
       "    </tr>\n",
       "    <tr>\n",
       "      <th>unique</th>\n",
       "      <td>3</td>\n",
       "    </tr>\n",
       "    <tr>\n",
       "      <th>top</th>\n",
       "      <td>Retirement Plan</td>\n",
       "    </tr>\n",
       "    <tr>\n",
       "      <th>freq</th>\n",
       "      <td>24</td>\n",
       "    </tr>\n",
       "  </tbody>\n",
       "</table>\n",
       "</div>"
      ],
      "text/plain": [
       "       What are your savings objectives?\n",
       "count                                 40\n",
       "unique                                 3\n",
       "top                      Retirement Plan\n",
       "freq                                  24"
      ]
     },
     "execution_count": 8,
     "metadata": {},
     "output_type": "execute_result"
    }
   ],
   "source": [
    "saving_objectives_df = df[['What are your savings objectives?']]\n",
    "print (saving_objectives_df)\n",
    "saving_objectives_df.info()\n",
    "saving_objectives_df.describe()"
   ]
  },
  {
   "cell_type": "markdown",
   "metadata": {},
   "source": [
    "### From the above responses, we can see that there are just 3 objectives choices that where selected by the Investors/participants. The main objective by the participants is \"Retirement Plan\"."
   ]
  }
 ],
 "metadata": {
  "kernelspec": {
   "display_name": "Python 3",
   "language": "python",
   "name": "python3"
  },
  "language_info": {
   "codemirror_mode": {
    "name": "ipython",
    "version": 3
   },
   "file_extension": ".py",
   "mimetype": "text/x-python",
   "name": "python",
   "nbconvert_exporter": "python",
   "pygments_lexer": "ipython3",
   "version": "3.12.7"
  }
 },
 "nbformat": 4,
 "nbformat_minor": 2
}
